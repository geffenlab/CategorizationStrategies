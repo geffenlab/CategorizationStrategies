{
 "cells": [
  {
   "cell_type": "code",
   "execution_count": 1,
   "metadata": {},
   "outputs": [],
   "source": [
    "import numpy as np\n",
    "import psytrack as psy\n",
    "import pickle \n",
    "import copy\n",
    "import os\n",
    "import datetime\n",
    "\n",
    "%load_ext autoreload\n",
    "%autoreload 2\n",
    "\n",
    "import helperFns as mf\n",
    "\n",
    "curPath = os.path.abspath(os.getcwd())"
   ]
  },
  {
   "cell_type": "code",
   "execution_count": 25,
   "metadata": {},
   "outputs": [
    {
     "name": "stdout",
     "output_type": "stream",
     "text": [
      "Starting GS027\n",
      "Starting GS028\n",
      "Starting GS029\n",
      "Starting GS030\n",
      "Starting GS037\n",
      "Starting GS040\n",
      "Starting JC025\n",
      "Starting JC028\n",
      "Starting JC029\n",
      "Starting JC039\n",
      "Starting JC044\n",
      "Starting JC047\n",
      "Starting JC048\n",
      "Starting JC052\n",
      "Starting JC057\n",
      "Starting JC059\n",
      "Starting JC061\n",
      "Starting JC062\n",
      "Starting JC067\n"
     ]
    }
   ],
   "source": [
    "## Code to extract GLM weight trajectories from behavioral data for all mice. Some elements adapted from Roy et al, 2021. \n",
    "\n",
    "IDs = ('GS027', 'GS028', 'GS029', 'GS030', 'GS037', 'GS040', 'JC025', 'JC028', 'JC029', 'JC039', 'JC044', 'JC047', 'JC048', 'JC052', 'JC057', 'JC059', 'JC061', 'JC062', 'JC067')\n",
    "\n",
    "untilTesting = False # We're removing some of the sessions at the end to make sure that the mice \"end\" at similar accuracies\n",
    "\n",
    "saveDat = True\n",
    "\n",
    "weights = {'bias': 1,\n",
    "           's_high': 1,\n",
    "           's_low': 1}\n",
    "\n",
    "K = np.sum([weights[i] for i in weights.keys()])\n",
    "\n",
    "hyper= {'sigInit': 2**4.,      # Set to a single, large value for all weights. Will not be optimized further.\n",
    "        'sigma': [2**-4.]*K,   # Each weight will have it's own sigma optimized, but all are initialized the same\n",
    "        'sigDay': 2**-4.}      # If NONE, then ignore session boundaries\n",
    "\n",
    "optList = ['sigma','sigDay']\n",
    "\n",
    "for ID in IDs:\n",
    "\n",
    "    print('Starting ' + ID)\n",
    "    \n",
    "    keyword = \"training\"\n",
    "    stc = 'training'\n",
    "    \n",
    "    cutoff = 60\n",
    "    numSessions = None\n",
    "    accCutoff = 0\n",
    "    tD = mf.getD(ID, keyword = keyword, cutoff = cutoff, accCutoff = accCutoff, sessionCutoff = numSessions, txt = None, untilTesting = untilTesting)\n",
    "    \n",
    "    tD2 = copy.deepcopy(tD)\n",
    "\n",
    "    hyp, evd, wMode, hess_info = psy.hyperOpt(tD2, hyper, weights, optList)\n",
    "\n",
    "    psytrack = {\n",
    "        'wMode': wMode,\n",
    "        'weights': weights,\n",
    "        'hyp': hyp,\n",
    "    }\n",
    "\n",
    "    tD['psytrack'] = psytrack\n",
    "\n",
    "    today = datetime.datetime.now()\n",
    "    date_time = today.strftime(\"%y%m%d\")\n",
    "\n",
    "    tmp = 'new_data/' + date_time + '/with_bias_learning/'\n",
    "   \n",
    "    if not os.path.isdir(tmp):\n",
    "        os.makedirs(tmp)\n",
    "\n",
    "    if saveDat:\n",
    "        saveName = tmp + \"{}_trainingDataBias.pkl\".format(ID)\n",
    "        with open(saveName, 'wb') as f:\n",
    "            pickle.dump(tD, f)\n"
   ]
  }
 ],
 "metadata": {
  "kernelspec": {
   "display_name": "behavior_analysis",
   "language": "python",
   "name": "python3"
  },
  "language_info": {
   "codemirror_mode": {
    "name": "ipython",
    "version": 3
   },
   "file_extension": ".py",
   "mimetype": "text/x-python",
   "name": "python",
   "nbconvert_exporter": "python",
   "pygments_lexer": "ipython3",
   "version": "3.11.4"
  },
  "orig_nbformat": 4
 },
 "nbformat": 4,
 "nbformat_minor": 2
}
