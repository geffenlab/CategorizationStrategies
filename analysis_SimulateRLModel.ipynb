{
 "cells": [
  {
   "cell_type": "code",
   "execution_count": 2,
   "metadata": {},
   "outputs": [],
   "source": [
    "# Import External Packages\n",
    "from scipy.optimize import minimize # finding optimal params in models\n",
    "import os                           # operating system tools\n",
    "import numpy as np                  # matrix/array functions\n",
    "import pandas as pd                 # loading and manipulating data\n",
    "import matplotlib.pyplot as plt     # plotting\n",
    "import datetime\n",
    "\n",
    "# Importing Custom Functions\n",
    "import reinforcementLearningFns as rlf\n",
    "import plotFns as psyplt\n",
    "import helperFns as mf\n",
    "\n",
    "# Setting Seed for Reproducibility\n",
    "np.random.seed(2021)\n",
    "\n",
    "curPath = os.path.abspath(os.getcwd())"
   ]
  },
  {
   "cell_type": "code",
   "execution_count": null,
   "metadata": {},
   "outputs": [],
   "source": [
    "# In this notebook, we will simulate choice data using the Choice-History model, and fit that \n",
    "# data with our model in order to demonstrate that we can recover the original parameters. Then, \n",
    "# we will apply our model to real behavioral data and compare simulations using those parameters\n",
    "# with the actual behavior."
   ]
  },
  {
   "cell_type": "code",
   "execution_count": 11,
   "metadata": {},
   "outputs": [
    {
     "name": "stdout",
     "output_type": "stream",
     "text": [
      "Starting Learning Simulation\n"
     ]
    },
    {
     "data": {
      "image/png": "[encoded data removed]",
      "text/plain": [
       "<Figure size 200x180 with 1 Axes>"
      ]
     },
     "metadata": {},
     "output_type": "display_data"
    }
   ],
   "source": [
    "## Okay, let's use our reinforcement learning model to simulate choice data. We need to pick some parameters!\n",
    "\n",
    "model_params_init = {\n",
    "    'N': 10000, # Number of trials\n",
    "    'alpha': 0.003, # Learning rate\n",
    "    'beta': .05, # Choice-History parameter\n",
    "    'bias': 0.05, # Overall bias, signed towards \"High frequency\"\n",
    "    'init_Q': [0.05,-0.05], # Initial value bias. This bias indicates an initial value bias towards \"High frequency\"\n",
    "    'max_num_cts': 3, # Presence of correction trials in simulation\n",
    "}\n",
    "\n",
    "# Simulate choices from parameters\n",
    "sim = rlf.simulateFromParameters(model_params_init, R = 1)\n",
    "\n",
    "# Plot category-conditional accuracy traces of the simulated learning trajectory\n",
    "fig, ax = psyplt.plotFitSimulations(sim, reps = 1, nPoints = 400, smoothF = 5, smooth2 = 5)\n",
    "plt.show()"
   ]
  },
  {
   "cell_type": "code",
   "execution_count": 14,
   "metadata": {},
   "outputs": [
    {
     "name": "stdout",
     "output_type": "stream",
     "text": [
      "         index      bias     alpha      beta    init_Q\n",
      "0  SIM RESULTS  0.053819  0.002479  0.063354  0.032471\n",
      "1  INIT PARAMS      0.05     0.003      0.05      0.05\n"
     ]
    }
   ],
   "source": [
    "## Now, let's fit our model to the simulated data to see if we can recover the underlying parameters!\n",
    "\n",
    "ns = 2 # For demonstration, will run twice- usually would run from different parameter starting points.\n",
    "# There are 4 parameters, and each run takes ~1-2 minutes. Therefore, ns = 1 ~2 minutes, ns = 2 ~ 20 minutes.\n",
    "\n",
    "alpha = 0\n",
    "beta = 0\n",
    "bias = 0\n",
    "iQ = [0, 0]\n",
    "\n",
    "model_params = {\n",
    "    'N': np.nan,\n",
    "    'alpha': alpha,\n",
    "    'beta': 1000,\n",
    "    'bias': 0,\n",
    "    'init_Q': iQ,\n",
    "    'max_num_cts': 3,\n",
    "}\n",
    "\n",
    "#initialize dataframe to store results\n",
    "df = pd.DataFrame(index=range(0,2), columns=['id','bias','alpha','beta','init_Q','nLL'])\n",
    "\n",
    "nParams = 4\n",
    "\n",
    "bias_grid = np.linspace(-0.15, 0.15, ns)\n",
    "alpha_grid= np.linspace(.0003,.01,ns)\n",
    "beta_grid = np.linspace(.001,.5,ns)\n",
    "init_q_grid = np.linspace(-0.2,0.2,ns)\n",
    "\n",
    "bias_range = (-0.4, 0.4)\n",
    "alpha_range = (.00001,.1)\n",
    "beta_range = (.0001,20)\n",
    "init_q_range = (-1, 1)\n",
    "\n",
    "individualFits = {}\n",
    "\n",
    "dataframefull = ()\n",
    "\n",
    "subj_choice = sim['choice']\n",
    "stim_cat = sim['stim_stored'][:,1]\n",
    "\n",
    "# gradient descent to minimize neg LL\n",
    "res_nll = np.inf # set initial neg LL to be inf\n",
    "\n",
    "df_temp = pd.DataFrame(index=range(0,ns**nParams), columns=['bias','alpha','beta','init_Q','nLL','N','D'])\n",
    "\n",
    "ii = 0\n",
    "# guess several different starting points for alpha, beta, init_q, bias...\n",
    "for bias_guess in bias_grid:\n",
    "    for alpha_guess in alpha_grid:\n",
    "        for beta_guess in beta_grid:\n",
    "            for init_q_guess in init_q_grid:\n",
    "                # guesses for bias, alpha, beta, init will change on each loop\n",
    "                init_guess = (bias_guess, alpha_guess, beta_guess, init_q_guess)\n",
    "\n",
    "                # minimize neg LL\n",
    "                result = minimize(rlf.fitLearning, \n",
    "                                    init_guess, \n",
    "                                    (model_params, subj_choice, stim_cat), \n",
    "                                    bounds = (bias_range, alpha_range, beta_range, init_q_range))\n",
    "                \n",
    "                # if current negLL is smaller than the last negLL,\n",
    "                # then store current data\n",
    "\n",
    "                df_temp.at[ii, 'bias'] = result.x[0]\n",
    "                df_temp.at[ii, 'alpha'] = result.x[1]\n",
    "                df_temp.at[ii, 'beta'] = result.x[2]\n",
    "                df_temp.at[ii, 'init_Q'] = result.x[3]\n",
    "                df_temp.at[ii, 'nLL'] = result.fun\n",
    "                df_temp.at[ii, 'N'] = len(subj_choice)\n",
    "                df_temp.at[ii, 'D'] = len(init_guess)\n",
    "                ii += 1\n",
    "                    \n",
    "df_temp = df_temp.sort_values(by = ['nLL'])\n",
    "df_temp = df_temp.reset_index()\n",
    "df_disp = df_temp.copy()\n",
    "df_disp = df_disp.head(1)\n",
    "df_disp['index'] = 'SIM RESULTS'\n",
    "\n",
    "df_disp.loc[1,'index'] = 'INIT PARAMS'\n",
    "df_disp.loc[1,'bias'] = model_params_init['bias']\n",
    "df_disp.loc[1,'alpha'] = model_params_init['alpha']\n",
    "df_disp.loc[1,'beta'] = model_params_init['beta']\n",
    "df_disp.loc[1,'init_Q'] = model_params_init['init_Q'][0]\n",
    "\n",
    "print(df_disp[['index','bias','alpha','beta','init_Q']])\n"
   ]
  },
  {
   "cell_type": "code",
   "execution_count": 88,
   "metadata": {},
   "outputs": [
    {
     "name": "stdout",
     "output_type": "stream",
     "text": [
      "subject JC059: bias=-0.1229, alpha=0.0013, beta=0.3554, init_Q = -0.4963; negLL=2547.83; BIC=5129.27\n"
     ]
    }
   ],
   "source": [
    "# We can see that the model is able to retrieve the original parameters well. Now, we will apply the model to real behavioral data.\n",
    "\n",
    "IDs = ('JC059',)\n",
    "\n",
    "dataBase =  os.path.abspath(os.path.join(curPath,\"data/Trajectories/with_bias_learning/\"))\n",
    "\n",
    "alpha = 0 # \"Rate\", how much the prediction error updates the weights\n",
    "beta = 0 # Generalization decay constant: how much does the \"update\" affect both stimulus associations vs. being stimulus-specific? High = more stimulus-specific\n",
    "bias = 0 # Initial starting bias (towards high), is added to the weight*stimulus before the logistic function.\n",
    "\n",
    "iQ = [0, 0]\n",
    "\n",
    "model_params = {\n",
    "    'N': np.nan,\n",
    "    'alpha': alpha,\n",
    "    'beta': 1000,\n",
    "    'bias': 0,\n",
    "    'init_Q': iQ,\n",
    "    'max_num_cts': 3,\n",
    "}\n",
    "\n",
    "#initialize dataframe to store results\n",
    "df = pd.DataFrame(index=range(0,len(IDs)), columns=['id','bias','alpha','beta','init_Q','nLL'])\n",
    "\n",
    "nParams = 4\n",
    "\n",
    "ns = 1\n",
    "\n",
    "bias_grid = np.linspace(-0.15, 0.15, ns)\n",
    "alpha_grid= np.linspace(.0003,.01,ns)\n",
    "beta_grid = np.linspace(.001,.5,ns)\n",
    "init_q_grid = np.linspace(-0.2,0.2,ns)\n",
    "\n",
    "bias_range = (-0.4, 0.4)\n",
    "alpha_range = (.00001,.1)\n",
    "beta_range = (.0001,20)\n",
    "init_q_range = (-1, 1)\n",
    "\n",
    "individualFits = {}\n",
    "\n",
    "dataframefull = ()\n",
    "\n",
    "for index, ID in enumerate(IDs):\n",
    "\n",
    "    loaded_dict = mf.loadSavedFits(ID, dataBase, ending = '_trainingDataBias')\n",
    "    subj_choice = np.array(loaded_dict['y'])\n",
    "    stim_cat = np.array(loaded_dict['answer']) - 1\n",
    "\n",
    "    # gradient descent to minimize neg LL\n",
    "    res_nll = np.inf # set initial neg LL to be inf\n",
    "    \n",
    "    df_temp = pd.DataFrame(index=range(0,ns**nParams), columns=['bias','alpha','beta','init_Q','nLL','N','D'])\n",
    "\n",
    "    ii = 0\n",
    "    # guess several different starting points for alpha, beta, init_q, bias...\n",
    "    for bias_guess in bias_grid:\n",
    "        for alpha_guess in alpha_grid:\n",
    "            for beta_guess in beta_grid:\n",
    "                for init_q_guess in init_q_grid:\n",
    "                    # guesses for bias, alpha, beta, init will change on each loop\n",
    "                    init_guess = (bias_guess, alpha_guess, beta_guess, init_q_guess)\n",
    "\n",
    "                    # minimize neg LL\n",
    "                    result = minimize(rlf.fitLearning, \n",
    "                                        init_guess, \n",
    "                                        (model_params, subj_choice, stim_cat), \n",
    "                                        bounds = (bias_range, alpha_range, beta_range, init_q_range))\n",
    "                    \n",
    "                    # if current negLL is smaller than the last negLL,\n",
    "                    # then store current data\n",
    "\n",
    "                    df_temp.at[ii, 'bias'] = result.x[0]\n",
    "                    df_temp.at[ii, 'alpha'] = result.x[1]\n",
    "                    df_temp.at[ii, 'beta'] = result.x[2]\n",
    "                    df_temp.at[ii, 'init_Q'] = result.x[3]\n",
    "                    df_temp.at[ii, 'nLL'] = result.fun\n",
    "                    df_temp.at[ii, 'N'] = len(subj_choice)\n",
    "                    df_temp.at[ii, 'D'] = len(init_guess)\n",
    "                    ii += 1\n",
    "\n",
    "                    if result.fun < res_nll and result.success:\n",
    "                        res_nll = result.fun\n",
    "                        param_fits = result.x\n",
    "                    \n",
    "    df_temp = df_temp.sort_values(by = ['nLL'])\n",
    "    df_temp = df_temp.reset_index()\n",
    "\n",
    "    df_temp['index'] = ID\n",
    "    if len(dataframefull) == 0:\n",
    "        dataframefull = df_temp\n",
    "    else:\n",
    "        dataframefull = pd.concat([dataframefull, df_temp])\n",
    "\n",
    "    # also, compute BIC\n",
    "    BIC = len(init_guess) * np.log(len(subj_choice)) + 2*res_nll\n",
    "\n",
    "    #store in dataframe\n",
    "    df.at[index, 'id'] = ID\n",
    "    df.at[index, 'bias'] = param_fits[0]\n",
    "    df.at[index, 'alpha'] = param_fits[1]\n",
    "    df.at[index, 'beta'] = param_fits[2]\n",
    "    df.at[index, 'init_Q'] = param_fits[3]\n",
    "    df.at[index, 'nLL'] = res_nll\n",
    "    df.at[index, 'BIC'] = BIC\n",
    "\n",
    "    today = datetime.datetime.now()\n",
    "    date_time = today.strftime(\"%y%m%d\")\n",
    "\n",
    "    tmp = 'new_data/' + date_time + '_RL_Data/'\n",
    "   \n",
    "    if not os.path.isdir(tmp):\n",
    "        os.makedirs(tmp)\n",
    "\n",
    "    saveName = '{}param_{}.csv'.format(nParams,date_time)\n",
    "\n",
    "    dataframefull.to_csv(tmp + 'fits_' + saveName)\n",
    "    df.to_csv(tmp + 'model_' + saveName)\n",
    "\n",
    "    print(fr'subject {ID}: bias={param_fits[0]:.4f}, alpha={param_fits[1]:.4f}, beta={param_fits[2]:.4f}, init_Q = {param_fits[3]:.4f}; negLL={res_nll:.2f}; BIC={BIC:.2f}')"
   ]
  },
  {
   "cell_type": "code",
   "execution_count": 4,
   "metadata": {},
   "outputs": [
    {
     "data": {
      "text/plain": [
       "0.7046880897187134"
      ]
     },
     "execution_count": 4,
     "metadata": {},
     "output_type": "execute_result"
    }
   ],
   "source": [
    "# We can interpret these parameters directly. According to the model, the mouse has an overall tendency to \n",
    "# prefer the low category. The beta term exp(-.35) = 0.7 tells us that 70% of the updating information from\n",
    "# each trial is assigned in a stimulus-independent manner. The mouse has an initial \"value bias\" towards the\n",
    "# high category."
   ]
  },
  {
   "cell_type": "code",
   "execution_count": 91,
   "metadata": {},
   "outputs": [
    {
     "name": "stdout",
     "output_type": "stream",
     "text": [
      "Starting Learning Simulation\n"
     ]
    },
    {
     "data": {
      "image/png": "[encoded data removed]",
      "text/plain": [
       "<Figure size 200x180 with 1 Axes>"
      ]
     },
     "metadata": {},
     "output_type": "display_data"
    }
   ],
   "source": [
    "# Now that we have the best-fitting model parameters for JC059, we can simulate sessions with these parameters \n",
    "# and compare them to the actual behavior.\n",
    "\n",
    "ID = 'JC059'\n",
    "\n",
    "mfN = 4\n",
    "reps = 50\n",
    "\n",
    "smoothF = 5\n",
    "nPoints = 400\n",
    "smooth2 = 5\n",
    "\n",
    "sim = rlf.simulateFromFit(ID, mfN, reps, folder = 'new_data')\n",
    "fig, ax = psyplt.plotFitSimulations(sim, reps, nPoints, smoothF, smooth2)\n",
    "plt.show()"
   ]
  },
  {
   "cell_type": "code",
   "execution_count": null,
   "metadata": {},
   "outputs": [],
   "source": [
    "# For JC059, we can see that, qualitatively, the trajectories of the actual behavioral conditional accuracies and those of the model have a lot in common!"
   ]
  }
 ],
 "metadata": {
  "kernelspec": {
   "display_name": "behavior_analysis",
   "language": "python",
   "name": "python3"
  },
  "language_info": {
   "codemirror_mode": {
    "name": "ipython",
    "version": 3
   },
   "file_extension": ".py",
   "mimetype": "text/x-python",
   "name": "python",
   "nbconvert_exporter": "python",
   "pygments_lexer": "ipython3",
   "version": "3.11.4"
  },
  "orig_nbformat": 4
 },
 "nbformat": 4,
 "nbformat_minor": 2
}
