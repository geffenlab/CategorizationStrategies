{
 "cells": [
  {
   "cell_type": "code",
   "execution_count": 16,
   "metadata": {},
   "outputs": [],
   "source": [
    "# Import External Packages\n",
    "import os\n",
    "import numpy as np\n",
    "import pandas as pd \n",
    "import matplotlib.pyplot as plt\n",
    "import tslearn\n",
    "from tslearn.clustering import TimeSeriesKMeans\n",
    "\n",
    "# Importing Custom Functions\n",
    "import clusteringFns as clf\n",
    "import plotFns as psyplt\n",
    "\n",
    "# Setting Seed for Reproducibility\n",
    "np.random.seed(2021)\n",
    "\n",
    "curPath = os.path.abspath(os.getcwd())"
   ]
  },
  {
   "cell_type": "code",
   "execution_count": null,
   "metadata": {},
   "outputs": [],
   "source": [
    "# In this notebook, we will format learning trajectories and transform them so that they can be clustered. We will then apply dynamic time-warping\n",
    "# clustering, checking the stability of the clusters, before visualizing our results."
   ]
  },
  {
   "cell_type": "code",
   "execution_count": 18,
   "metadata": {},
   "outputs": [],
   "source": [
    "## Formatting and subsampling trajectories into a dataframe to be clustered\n",
    "\n",
    "IDs = ('GS027', 'GS028', 'GS029', 'GS030', 'GS037', 'GS040', 'JC025', 'JC028', \n",
    "       'JC029', 'JC039', 'JC044', 'JC047', 'JC048', 'JC052', 'JC057', 'JC059', \n",
    "       'JC061', 'JC062', 'JC067')\n",
    "\n",
    "dataBase =  os.path.abspath(os.path.join(curPath,\"data/Trajectories/with_bias_learning\"))\n",
    "\n",
    "signedTraceMat, avgTraceMat = clf.generateTraceMats(IDs, dataBase)"
   ]
  },
  {
   "cell_type": "code",
   "execution_count": 19,
   "metadata": {},
   "outputs": [
    {
     "name": "stdout",
     "output_type": "stream",
     "text": [
      "       Not In Same Cluster  Inconsistent  In Same Cluster  Cluster\n",
      "GS027                    8             2                8        0\n",
      "GS028                    8             2                8        0\n",
      "GS029                    8             2                8        0\n",
      "GS030                    8             2                8        0\n",
      "GS037                    9             2                7        1\n",
      "GS040                    9             2                7        1\n",
      "JC025                    8             2                8        0\n",
      "JC028                    9             2                7        1\n",
      "JC029                    9             2                7        1\n",
      "JC039                    9             2                7        1\n",
      "JC044                    8             2                8        0\n",
      "JC047                    9             2                7        1\n",
      "JC048                    8             2                8        0\n",
      "JC052                    0            17                1        2\n",
      "JC057                    8             2                8        0\n",
      "JC059                    9             2                7        1\n",
      "JC061                    0            17                1        2\n",
      "JC062                    9             2                7        1\n",
      "JC067                    8             2                8        0\n"
     ]
    }
   ],
   "source": [
    "## Determining which mice are in stable clusters at k = 2\n",
    "\n",
    "# Converting traces to time series dataset\n",
    "X = avgTraceMat\n",
    "X = tslearn.utils.to_time_series_dataset(X)\n",
    "\n",
    "seed = 1008\n",
    "met = \"dtw\"\n",
    "clusterDat = np.zeros((19,19))\n",
    "\n",
    "# Running clustering algorithm 100 times, and keeping track of how regularly mice are co-clustered\n",
    "\n",
    "nr = 100\n",
    "ks = np.ones((1,nr)) + 1\n",
    "ks = np.squeeze(ks)\n",
    "\n",
    "for i, k in enumerate(ks):\n",
    "\n",
    "    km = TimeSeriesKMeans(n_clusters = 2, metric=met, max_iter=50, random_state=seed + i)\n",
    "    km.fit(X)\n",
    "    x_pred = km.predict(X)\n",
    "\n",
    "    for ix in range(0,19):\n",
    "        for iy in range(0,19):\n",
    "            if x_pred[ix] == x_pred[iy]:\n",
    "                clusterDat[ix,iy] += 1\n",
    "\n",
    "clusterDat = clusterDat/nr\n",
    "clusterDat = pd.DataFrame(clusterDat, columns=IDs, index = IDs)\n",
    "\n",
    "d = [0,0,0]\n",
    "\n",
    "for n in range(0,19):\n",
    "    temp = np.array(clusterDat.iloc[n,:])\n",
    "    temp = np.delete(temp,[n,])\n",
    "    \n",
    "    h = np.histogram(temp,[0,0.3, 0.7, 1])\n",
    "    d = np.vstack([d,h[0]])\n",
    "\n",
    "d = d[1:]\n",
    "d = pd.DataFrame(d, columns = ['Not In Same Cluster', 'Inconsistent', 'In Same Cluster'], index = IDs)\n",
    "\n",
    "# Defining clusters from co-clustering matrix\n",
    "\n",
    "d['Cluster'] = 2\n",
    "d.loc[clusterDat['GS027'] > 0.7, 'Cluster'] = 0\n",
    "d.loc[clusterDat['GS027'] < 0.3, 'Cluster'] = 1\n",
    "\n",
    "print(d)"
   ]
  },
  {
   "cell_type": "code",
   "execution_count": 21,
   "metadata": {},
   "outputs": [
    {
     "data": {
      "image/png": "[encoded data removed]",
      "text/plain": [
       "<Figure size 250x400 with 2 Axes>"
      ]
     },
     "metadata": {},
     "output_type": "display_data"
    }
   ],
   "source": [
    "# We can see that 17 of the 19 mice are consistently clustered, while 2 are not. Now, we can visualize \n",
    "# the average conditional accuracy traces of each cluster.\n",
    "\n",
    "Xp = signedTraceMat\n",
    "Xp = np.array(Xp)\n",
    "\n",
    "x_pred = d['Cluster']\n",
    "\n",
    "fig, axs = psyplt.plotClustersVert(Xp, x_pred, nPoints = 100)\n",
    "\n",
    "font = {'family' : 'Arial',\n",
    "        'weight' : 'normal',\n",
    "        'size'   : 15}\n",
    "\n",
    "plt.rc('font', **font)\n",
    "\n",
    "for ax in axs:\n",
    "\n",
    "    ax.spines[['right', 'top']].set_visible(False)\n",
    "    ax.spines[['left', 'bottom']].set_linewidth(2)\n",
    "    ax.set_ylim(-0.05,1.05)\n",
    "    ax.tick_params(\n",
    "        axis='both',          # changes apply to the x-axis\n",
    "        which='both',      # both major and minor ticks are affected\n",
    "        bottom=False,      # ticks along the bottom edge are off\n",
    "        top=False,         # ticks along the top edge are off\n",
    "        left = False,\n",
    "        labelbottom=False,\n",
    "        labelleft=False) # labels along the bottom edge are off\n",
    "\n",
    "fig.set_size_inches(2.5,4)\n",
    "\n",
    "plt.show()"
   ]
  },
  {
   "cell_type": "code",
   "execution_count": null,
   "metadata": {},
   "outputs": [],
   "source": [
    "# We can see that the clusters vary based on their initial dynamics (maintaining intial magnitude and direction of choice bias vs switching choice bias side)."
   ]
  }
 ],
 "metadata": {
  "kernelspec": {
   "display_name": "behavior_analysis",
   "language": "python",
   "name": "python3"
  },
  "language_info": {
   "codemirror_mode": {
    "name": "ipython",
    "version": 3
   },
   "file_extension": ".py",
   "mimetype": "text/x-python",
   "name": "python",
   "nbconvert_exporter": "python",
   "pygments_lexer": "ipython3",
   "version": "3.11.4"
  },
  "orig_nbformat": 4
 },
 "nbformat": 4,
 "nbformat_minor": 2
}
