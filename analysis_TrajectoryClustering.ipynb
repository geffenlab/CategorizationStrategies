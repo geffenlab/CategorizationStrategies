{
 "cells": [
  {
   "cell_type": "code",
   "execution_count": 1,
   "metadata": {},
   "outputs": [],
   "source": [
    "# Import External Packages\n",
    "import os\n",
    "import numpy as np\n",
    "import pandas as pd \n",
    "import matplotlib.pyplot as plt\n",
    "import tslearn\n",
    "from tslearn.clustering import TimeSeriesKMeans\n",
    "\n",
    "# Importing Custom Functions\n",
    "import clusteringFns as clf\n",
    "\n",
    "# Setting Seed for Reproducibility\n",
    "np.random.seed(2021)\n",
    "\n",
    "curPath = os.path.abspath(os.getcwd())"
   ]
  },
  {
   "cell_type": "code",
   "execution_count": 2,
   "metadata": {},
   "outputs": [],
   "source": [
    "## Formatting and subsampling trajectories into a dataframe to be clustered\n",
    "\n",
    "IDs = ('GS027', 'GS028', 'GS029', 'GS030', 'GS037', 'GS040', 'JC025', 'JC028', \n",
    "       'JC029', 'JC039', 'JC044', 'JC047', 'JC048', 'JC052', 'JC057', 'JC059', \n",
    "       'JC061', 'JC062', 'JC067')\n",
    "\n",
    "dataBase =  os.path.abspath(os.path.join(curPath,\"data/Trajectories/with_bias_learning\"))\n",
    "\n",
    "signedTraceMatResized, avgTraceMatResized = clf.generateTraceMats(IDs, dataBase)"
   ]
  },
  {
   "cell_type": "code",
   "execution_count": 3,
   "metadata": {},
   "outputs": [],
   "source": [
    "## Applying time series clustering with various values of k\n",
    "\n",
    "X = avgTraceMatResized\n",
    "X = tslearn.utils.to_time_series_dataset(X)\n",
    "\n",
    "seed = 1008\n",
    "\n",
    "met = \"dtw\"\n",
    "\n",
    "nn = 50\n",
    "mx = 6\n",
    "\n",
    "ssd_mat_r = np.zeros((nn, mx))\n",
    "\n",
    "for ni, n in enumerate(range(0,nn)):\n",
    "    \n",
    "    models = []\n",
    "    km = TimeSeriesKMeans(n_clusters=1, metric=met, max_iter=10)\n",
    "    km.fit(X)\n",
    "    models.append(km)\n",
    "    \n",
    "    seed = seed + 1\n",
    "    for k in range(2, mx + 1):\n",
    "        km = TimeSeriesKMeans(n_clusters=k, metric=met, max_iter=50, random_state=seed)\n",
    "        km.fit(X)\n",
    "        models.append(km)\n",
    "\n",
    "    ssd = []\n",
    "    nk = []\n",
    "    for km in models:\n",
    "        ssd.append(km.inertia_)\n",
    "        nk.append(km.n_clusters)\n",
    "\n",
    "    ssd_mat_r[ni,] = ssd"
   ]
  },
  {
   "cell_type": "code",
   "execution_count": 4,
   "metadata": {},
   "outputs": [
    {
     "data": {
      "image/png": "[encoded data removed]",
      "text/plain": [
       "<Figure size 450x350 with 1 Axes>"
      ]
     },
     "metadata": {},
     "output_type": "display_data"
    }
   ],
   "source": [
    "## Visualizing SSD for each k value used\n",
    "\n",
    "fig, axs = plt.subplots(1,1, figsize=(4.5 , 3.5))\n",
    "\n",
    "axs.spines[['right', 'top']].set_visible(False)\n",
    "axs.spines[['left', 'bottom']].set_linewidth(2)\n",
    "axs.tick_params(\n",
    "    axis='both',          # changes apply to the x-axis\n",
    "    which='both',      # both major and minor ticks are affected\n",
    "    left=False,      # ticks along the bottom edge are off\n",
    "    top=False,         # ticks along the top edge are off\n",
    "    labelleft=False, # labels along the bottom edge are off\n",
    ")\n",
    "\n",
    "axs.set_xticks((2,4,6))\n",
    "axs.errorbar(nk, np.mean(ssd_mat_r,0), yerr = np.std(ssd_mat_r,0), fmt = 'b-', linewidth = 2)\n",
    "axs.set_xlabel('Number of Clusters')\n",
    "axs.set_ylabel('Sum of Squared Distances')\n",
    "axs.set_title('Elbow Method For Optimal K')\n",
    "\n",
    "plt.tight_layout()\n",
    "plt.show()"
   ]
  },
  {
   "cell_type": "code",
   "execution_count": 5,
   "metadata": {},
   "outputs": [
    {
     "name": "stdout",
     "output_type": "stream",
     "text": [
      "       Not In Same Cluster  Inconsistent  In Same Cluster\n",
      "GS027                    8             2                8\n",
      "GS028                    8             2                8\n",
      "GS029                    8             2                8\n",
      "GS030                    8             2                8\n",
      "GS037                    9             2                7\n",
      "GS040                    9             2                7\n",
      "JC025                    8             2                8\n",
      "JC028                    9             2                7\n",
      "JC029                    9             2                7\n",
      "JC039                    9             2                7\n",
      "JC044                    8             2                8\n",
      "JC047                    9             2                7\n",
      "JC048                    8             2                8\n",
      "JC052                    0            17                1\n",
      "JC057                    8             2                8\n",
      "JC059                    9             2                7\n",
      "JC061                    0            17                1\n",
      "JC062                    9             2                7\n",
      "JC067                    8             2                8\n"
     ]
    }
   ],
   "source": [
    "## Determining which mice are in stable clusters at k = 2\n",
    "\n",
    "X = avgTraceMatResized\n",
    "X = tslearn.utils.to_time_series_dataset(X)\n",
    "\n",
    "seed = 1008\n",
    "\n",
    "met = \"dtw\"\n",
    "\n",
    "clusterDat = np.zeros((19,19))\n",
    "\n",
    "nr = 100\n",
    "\n",
    "ks = np.ones((1,nr)) + 1\n",
    "ks = np.squeeze(ks)\n",
    "\n",
    "for i, k in enumerate(ks):\n",
    "\n",
    "    km = TimeSeriesKMeans(n_clusters = 2, metric=met, max_iter=50, random_state=seed + i)\n",
    "    km.fit(X)\n",
    "    x_pred = km.predict(X)\n",
    "\n",
    "    for ix in range(0,19):\n",
    "        for iy in range(0,19):\n",
    "            if x_pred[ix] == x_pred[iy]:\n",
    "                clusterDat[ix,iy] += 1\n",
    "\n",
    "clusterDat = clusterDat/nr\n",
    "clusterDat = pd.DataFrame(clusterDat, columns=IDs, index = IDs)\n",
    "\n",
    "d = [0,0,0]\n",
    "\n",
    "for n in range(0,19):\n",
    "    temp = np.array(clusterDat.iloc[n,:])\n",
    "    temp = np.delete(temp,[n,])\n",
    "    \n",
    "    h = np.histogram(temp,[0,0.3, 0.7, 1])\n",
    "    d = np.vstack([d,h[0]])\n",
    "\n",
    "d = d[1:]\n",
    "d = pd.DataFrame(d, columns = ['Not In Same Cluster', 'Inconsistent', 'In Same Cluster'], index = IDs)\n",
    "\n",
    "print(d)"
   ]
  }
 ],
 "metadata": {
  "kernelspec": {
   "display_name": "behavior_analysis",
   "language": "python",
   "name": "python3"
  },
  "language_info": {
   "codemirror_mode": {
    "name": "ipython",
    "version": 3
   },
   "file_extension": ".py",
   "mimetype": "text/x-python",
   "name": "python",
   "nbconvert_exporter": "python",
   "pygments_lexer": "ipython3",
   "version": "3.11.4"
  },
  "orig_nbformat": 4
 },
 "nbformat": 4,
 "nbformat_minor": 2
}
