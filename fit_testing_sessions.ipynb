{
 "cells": [
  {
   "cell_type": "code",
   "execution_count": 2,
   "metadata": {},
   "outputs": [
    {
     "name": "stdout",
     "output_type": "stream",
     "text": [
      "The autoreload extension is already loaded. To reload it, use:\n",
      "  %reload_ext autoreload\n"
     ]
    }
   ],
   "source": [
    "import numpy as np\n",
    "import psytrack as psy\n",
    "import os\n",
    "import datetime\n",
    "\n",
    "%load_ext autoreload\n",
    "%autoreload 2\n",
    "\n",
    "import helperFns as mf\n",
    "import fitFns as ff\n",
    "\n",
    "import pickle \n",
    "import copy\n",
    "\n",
    "curPath = os.path.abspath(os.getcwd())"
   ]
  },
  {
   "cell_type": "code",
   "execution_count": 3,
   "metadata": {},
   "outputs": [
    {
     "name": "stdout",
     "output_type": "stream",
     "text": [
      "Starting GS040\n"
     ]
    }
   ],
   "source": [
    "IDs = ('GS027', 'GS028', 'GS029', 'GS030', 'GS037', 'GS040', 'JC025', 'JC028', 'JC029', 'JC039', 'JC044', 'JC047', 'JC048', 'JC052', 'JC057', 'JC059', 'JC061', 'JC062', 'JC067')\n",
    "\n",
    "useVel = False\n",
    "saveDat = True\n",
    "\n",
    "weights = {'bias': 1, \n",
    "           's_high': 1,\n",
    "           's_low': 1}\n",
    "\n",
    "K = np.sum([weights[i] for i in weights.keys()])\n",
    "\n",
    "hyper= {'sigInit': 2**4.,\n",
    "        'sigma': [2**-4.]*K,\n",
    "        'sigDay': 2**-4.}\n",
    "\n",
    "optList = ['sigma','sigDay']\n",
    "\n",
    "for ID in IDs:\n",
    "\n",
    "    print('Starting ' + ID)\n",
    "    \n",
    "    keyword = \"testing\"\n",
    "    stc = 'testing'\n",
    "    \n",
    "    cutoff = 60\n",
    "    numSessions = None\n",
    "    accCutoff = 0.7\n",
    "    tD = mf.getD(ID, keyword = keyword, cutoff = cutoff, accCutoff=accCutoff, sessionCutoff = numSessions, txt = None, useVel = useVel)\n",
    "    \n",
    "    tD2 = copy.deepcopy(tD)\n",
    "\n",
    "    hyp, evd, wMode, hess_info = psy.hyperOpt(tD2, hyper, weights, optList)\n",
    "\n",
    "    psytrack = {\n",
    "        'wMode': wMode,\n",
    "        'weights': weights,\n",
    "        'hyp': hyp,\n",
    "    }\n",
    "\n",
    "    tD['psytrack'] = psytrack\n",
    "\n",
    "    today = datetime.datetime.now()\n",
    "    date_time = today.strftime(\"%y%m%d\")\n",
    "    tmp = 'new_data/' + date_time + '/'\n",
    "   \n",
    "    if not os.path.isdir(tmp):\n",
    "        os.makedirs(tmp)\n",
    "\n",
    "    if saveDat:\n",
    "        saveName = tmp + \"{}_biasTestingData.pkl\".format(ID)\n",
    "        with open(saveName, 'wb') as f:\n",
    "            pickle.dump(tD, f)\n",
    "\n",
    "    tD = mf.getD(ID, keyword = keyword, cutoff = cutoff, accCutoff=accCutoff, sessionCutoff = numSessions, removeProbes = False, txt = None, useVel = useVel)\n",
    "    \n",
    "    psychFit = ff.getPsychFit(tD, fitMethod = 'bads', nF = 2, stc = stc) # Use 'pymc' for sampling from posterior, 'bads' for point estimates\n",
    "    \n",
    "    if saveDat:\n",
    "        saveName = tmp + \"{}_biasTestingFitData.pkl\".format(ID)\n",
    "        with open(saveName, 'wb') as f:\n",
    "            pickle.dump(psychFit, f)\n"
   ]
  }
 ],
 "metadata": {
  "kernelspec": {
   "display_name": "behavior_analysis",
   "language": "python",
   "name": "python3"
  },
  "language_info": {
   "codemirror_mode": {
    "name": "ipython",
    "version": 3
   },
   "file_extension": ".py",
   "mimetype": "text/x-python",
   "name": "python",
   "nbconvert_exporter": "python",
   "pygments_lexer": "ipython3",
   "version": "3.11.4"
  },
  "orig_nbformat": 4
 },
 "nbformat": 4,
 "nbformat_minor": 2
}
