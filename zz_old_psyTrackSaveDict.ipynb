{
 "cells": [
  {
   "cell_type": "code",
   "execution_count": 1,
   "metadata": {},
   "outputs": [],
   "source": [
    "import numpy as np\n",
    "from matplotlib import pyplot as plt\n",
    "\n",
    "import scipy.stats as scs\n",
    "import scipy.signal as scsi\n",
    "\n",
    "import psytrack as psy\n",
    "import pandas as pd\n",
    "\n",
    "import os\n",
    "import datetime\n",
    "\n",
    "%load_ext autoreload\n",
    "%autoreload 2\n",
    "\n",
    "import helperFns as mf\n",
    "import plotFns as psyplt\n",
    "import fitFns as ff\n",
    "\n",
    "import pickle \n",
    "\n",
    "#from IPython.core.display import display, HTML\n",
    "#display(HTML(\"<style>.container { width:100% !important; }</style>\"))\n",
    "\n",
    "#import nest_asyncio\n",
    "#nest_asyncio.apply()"
   ]
  },
  {
   "cell_type": "code",
   "execution_count": 3,
   "metadata": {},
   "outputs": [
    {
     "name": "stdout",
     "output_type": "stream",
     "text": [
      "Starting JC052\n"
     ]
    }
   ],
   "source": [
    "# Modified from Roy Et Al, 2021\n",
    "\n",
    "IDs = ('GS027', 'GS028', 'GS029', 'GS030', 'GS037', 'GS040','JC025', 'JC028', 'JC029', 'JC039', 'JC044', 'JC047', 'JC048', 'JC052', 'JC057', 'JC059', 'JC061', 'JC062', 'JC067')\n",
    "\n",
    "useVel = False\n",
    "saveDat = True\n",
    "\n",
    "weights = {'bias': 1,  # a special key\n",
    "           's_high': 1,\n",
    "           's_low': 1}\n",
    "\n",
    "K = np.sum([weights[i] for i in weights.keys()])\n",
    "\n",
    "hyper= {'sigInit': 2**4.,      # Set to a single, large value for all weights. Will not be optimized further.\n",
    "        'sigma': [2**-4.]*K,   # Each weight will have it's own sigma optimized, but all are initialized the same\n",
    "        'sigDay': 2**-4.}      # If NONE, then ignore session boundaries\n",
    "\n",
    "optList = ['sigma','sigDay']\n",
    "\n",
    "for ID in IDs:\n",
    "\n",
    "    print('Starting ' + ID)\n",
    "    \n",
    "    keyword = \"training\"\n",
    "    cutoff = 60\n",
    "    numSessions = None # Use None if you want all sessions... counterintuitive, I know \n",
    "    trainingD = mf.getD(ID, keyword = keyword, cutoff = cutoff, sessionCutoff = numSessions, txt = None, useVel = useVel, untilTesting = True) #trainingD = psy.trim(trainingD, END = 500) \n",
    "    \n",
    "    hyp, evd, wMode, hess_info = psy.hyperOpt(trainingD, hyper, weights, optList)\n",
    "\n",
    "    psytrack = {\n",
    "        'wMode': wMode,\n",
    "        'weights': weights,\n",
    "        'hyp': hyp,\n",
    "    }\n",
    "    trainingD['psytrack'] = psytrack\n",
    "\n",
    "    today = datetime.datetime.now()\n",
    "    date_time = today.strftime(\"%y%m%d\")\n",
    "    tmp = 'data/' + date_time + '/'\n",
    "\n",
    "    if not os.path.isdir(tmp):\n",
    "        os.makedirs(tmp)\n",
    "\n",
    "    saveName = tmp + \"{}_trainingDataBias.pkl\".format(ID)\n",
    "    with open(saveName, 'wb') as f:\n",
    "        pickle.dump(trainingD, f)"
   ]
  }
 ],
 "metadata": {
  "kernelspec": {
   "display_name": "behavior_analysis",
   "language": "python",
   "name": "python3"
  },
  "language_info": {
   "codemirror_mode": {
    "name": "ipython",
    "version": 3
   },
   "file_extension": ".py",
   "mimetype": "text/x-python",
   "name": "python",
   "nbconvert_exporter": "python",
   "pygments_lexer": "ipython3",
   "version": "3.11.4"
  },
  "orig_nbformat": 4
 },
 "nbformat": 4,
 "nbformat_minor": 2
}
